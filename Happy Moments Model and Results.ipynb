{
 "cells": [
  {
   "cell_type": "markdown",
   "metadata": {},
   "source": [
    "# What Makes People Happy?\n",
    "\n",
    "\n",
    "## Part 2: NLP Modeling and Results\n",
    "\n",
    "---\n",
    "\n",
    "## Modeling Goals:\n",
    "\n",
    "###### 1. Select Model\n",
    "The goal for this portion of the project was to determine which model was able to most accurately predict which category each Happy Moment was assigned to. Each Happy Moment was pre-assigned to a category by the research team that initially studied the subject. \n",
    "###### 2. Identify Most Informative Features\n",
    "After selecting the most accurate model, apply the model to each of the categories to determine which features were most significant to it's prediction\n"
   ]
  },
  {
   "cell_type": "code",
   "execution_count": 1,
   "metadata": {},
   "outputs": [],
   "source": [
    "import pandas as pd\n",
    "import numpy as np \n",
    "import seaborn as sns\n",
    "import matplotlib.pyplot as plt\n",
    "import scipy as sp\n",
    "import spacy\n",
    "from sklearn.base import TransformerMixin\n",
    "from sklearn.pipeline import Pipeline\n",
    "from sklearn.svm import LinearSVC, SVC\n",
    "from sklearn.model_selection import train_test_split,GridSearchCV\n",
    "from sklearn.feature_extraction.text import CountVectorizer, TfidfVectorizer, ENGLISH_STOP_WORDS\n",
    "from sklearn.feature_selection import chi2\n",
    "from sklearn.naive_bayes import MultinomialNB         # Naive Bayes\n",
    "from sklearn.linear_model import LogisticRegression\n",
    "from sklearn import metrics\n",
    "from textblob import TextBlob, Word\n",
    "import nltk\n",
    "from nltk.corpus import stopwords\n",
    "import string\n",
    "import re\n",
    "\n",
    "plt.style.use('fivethirtyeight')\n",
    "\n",
    "%matplotlib inline"
   ]
  },
  {
   "cell_type": "markdown",
   "metadata": {},
   "source": [
    "#### Read in data and dummy the categories"
   ]
  },
  {
   "cell_type": "code",
   "execution_count": 3,
   "metadata": {},
   "outputs": [
    {
     "data": {
      "text/html": [
       "<div>\n",
       "<style scoped>\n",
       "    .dataframe tbody tr th:only-of-type {\n",
       "        vertical-align: middle;\n",
       "    }\n",
       "\n",
       "    .dataframe tbody tr th {\n",
       "        vertical-align: top;\n",
       "    }\n",
       "\n",
       "    .dataframe thead th {\n",
       "        text-align: right;\n",
       "    }\n",
       "</style>\n",
       "<table border=\"1\" class=\"dataframe\">\n",
       "  <thead>\n",
       "    <tr style=\"text-align: right;\">\n",
       "      <th></th>\n",
       "      <th>hmid</th>\n",
       "      <th>wid</th>\n",
       "      <th>reflection_period</th>\n",
       "      <th>cleaned_hm</th>\n",
       "      <th>num_sentence</th>\n",
       "      <th>predicted_category</th>\n",
       "      <th>age</th>\n",
       "      <th>country</th>\n",
       "      <th>gender</th>\n",
       "      <th>marital</th>\n",
       "      <th>parenthood</th>\n",
       "      <th>category_id</th>\n",
       "      <th>toke_text</th>\n",
       "      <th>affection_0</th>\n",
       "      <th>leisure_1</th>\n",
       "      <th>bonding_2</th>\n",
       "      <th>achievement_3</th>\n",
       "      <th>enjoy_the_moment_4</th>\n",
       "      <th>exercise_5</th>\n",
       "      <th>nature_6</th>\n",
       "    </tr>\n",
       "  </thead>\n",
       "  <tbody>\n",
       "    <tr>\n",
       "      <th>0</th>\n",
       "      <td>27673</td>\n",
       "      <td>2053</td>\n",
       "      <td>24h</td>\n",
       "      <td>I went on a successful date with someone I fel...</td>\n",
       "      <td>1</td>\n",
       "      <td>affection</td>\n",
       "      <td>35.0</td>\n",
       "      <td>USA</td>\n",
       "      <td>m</td>\n",
       "      <td>single</td>\n",
       "      <td>n</td>\n",
       "      <td>0</td>\n",
       "      <td>['successful', 'date', 'feel', 'sympathy', 'co...</td>\n",
       "      <td>1</td>\n",
       "      <td>0</td>\n",
       "      <td>0</td>\n",
       "      <td>0</td>\n",
       "      <td>0</td>\n",
       "      <td>0</td>\n",
       "      <td>0</td>\n",
       "    </tr>\n",
       "    <tr>\n",
       "      <th>1</th>\n",
       "      <td>27873</td>\n",
       "      <td>2053</td>\n",
       "      <td>24h</td>\n",
       "      <td>I played a new game that was fun and got to en...</td>\n",
       "      <td>1</td>\n",
       "      <td>leisure</td>\n",
       "      <td>35.0</td>\n",
       "      <td>USA</td>\n",
       "      <td>m</td>\n",
       "      <td>single</td>\n",
       "      <td>n</td>\n",
       "      <td>1</td>\n",
       "      <td>['play', 'new', 'game', 'fun', 'enjoy', 'mecha...</td>\n",
       "      <td>0</td>\n",
       "      <td>1</td>\n",
       "      <td>0</td>\n",
       "      <td>0</td>\n",
       "      <td>0</td>\n",
       "      <td>0</td>\n",
       "      <td>0</td>\n",
       "    </tr>\n",
       "  </tbody>\n",
       "</table>\n",
       "</div>"
      ],
      "text/plain": [
       "    hmid   wid reflection_period  \\\n",
       "0  27673  2053               24h   \n",
       "1  27873  2053               24h   \n",
       "\n",
       "                                          cleaned_hm  num_sentence  \\\n",
       "0  I went on a successful date with someone I fel...             1   \n",
       "1  I played a new game that was fun and got to en...             1   \n",
       "\n",
       "  predicted_category   age country gender marital parenthood  category_id  \\\n",
       "0          affection  35.0     USA      m  single          n            0   \n",
       "1            leisure  35.0     USA      m  single          n            1   \n",
       "\n",
       "                                           toke_text  affection_0  leisure_1  \\\n",
       "0  ['successful', 'date', 'feel', 'sympathy', 'co...            1          0   \n",
       "1  ['play', 'new', 'game', 'fun', 'enjoy', 'mecha...            0          1   \n",
       "\n",
       "   bonding_2  achievement_3  enjoy_the_moment_4  exercise_5  nature_6  \n",
       "0          0              0                   0           0         0  \n",
       "1          0              0                   0           0         0  "
      ]
     },
     "execution_count": 3,
     "metadata": {},
     "output_type": "execute_result"
    }
   ],
   "source": [
    "hm_df = pd.read_table('./data/happy_moments.csv', sep=',')\n",
    "category_id_dummies = pd.get_dummies(hm_df.category_id,prefix='category')\n",
    "category_id_dummies.rename(columns={'category_0':'affection_0',\n",
    "                                   'category_1':'leisure_1',\n",
    "                                   'category_2':'bonding_2',\n",
    "                                   'category_3':'achievement_3',\n",
    "                                   'category_4':'enjoy_the_moment_4',\n",
    "                                   'category_5':'exercise_5',\n",
    "                                   'category_6':'nature_6'},inplace=True)\n",
    "hm_df = pd.concat([hm_df,category_id_dummies],axis=1)\n",
    "hm_df.to_csv('./data/hm_df.csv',index=False)\n",
    "hm_df.head(2)"
   ]
  },
  {
   "cell_type": "markdown",
   "metadata": {},
   "source": [
    "#### Prepare data for NLP"
   ]
  },
  {
   "cell_type": "code",
   "execution_count": 4,
   "metadata": {},
   "outputs": [],
   "source": [
    "nlp = spacy.load('en_core_web_sm')\n",
    "STOPLIST = set(stopwords.words('english') + [\"n't\", \"'s\", \"'m\", \"ca\"] + list(ENGLISH_STOP_WORDS))\n",
    "SYMBOLS = \" \".join(string.punctuation).split(\" \") + [\"-----\", \"---\", \"...\", \"“\", \"”\", \"'ve\"]\n",
    "category_id_df = hm_df[['predicted_category','category_id']].drop_duplicates().sort_values('category_id')\n",
    "category_to_id = dict(category_id_df.values)"
   ]
  },
  {
   "cell_type": "markdown",
   "metadata": {},
   "source": [
    "### Modeling Functions\n",
    "\n",
    "Functions created to fit and test the accuracy of different models"
   ]
  },
  {
   "cell_type": "code",
   "execution_count": 5,
   "metadata": {},
   "outputs": [],
   "source": [
    "class CleanTextTransformer(TransformerMixin):\n",
    "\n",
    "    def transform(self, X, **transform_params):\n",
    "        return [cleanText(text) for text in X]\n",
    "\n",
    "    def fit(self, X, y=None, **fit_params):\n",
    "        return self\n",
    "\n",
    "    def get_params(self, deep=True):\n",
    "        return {}\n",
    "def cleanText(text):\n",
    "    # get rid of newlines\n",
    "    text = text.strip().replace(\"\\n\", \" \").replace(\"\\r\", \" \")\n",
    "    \n",
    "    # lowercase\n",
    "    text = text.lower()\n",
    "    return text"
   ]
  },
  {
   "cell_type": "markdown",
   "metadata": {},
   "source": [
    "#### Count Vectorizer\n",
    "Function created to check the accuracy of using a count vectorizer on each Happy Moment token"
   ]
  },
  {
   "cell_type": "code",
   "execution_count": 6,
   "metadata": {},
   "outputs": [],
   "source": [
    "def model_test(df,clf):\n",
    "    vectorizer = CountVectorizer(ngram_range=(1,1), min_df=2)\n",
    "    pipe = Pipeline([('cleanText', CleanTextTransformer()), ('vectorizer', vectorizer), ('clf', clf)])\n",
    "    X = df.toke_text\n",
    "    y = df.category_id\n",
    "    X_train, X_test, y_train, y_test = train_test_split(X, y, random_state=1,test_size=0.2)\n",
    "    pipe.fit(X_train,y_train)\n",
    "    y_pred_class = pipe.predict(X_test)\n",
    "    print(\"----------------------------------------------------------------------------------------------\")\n",
    "    print(\"CV Accuracy Score:\", metrics.accuracy_score(y_test, y_pred_class))\n",
    "    print(\"----------------------------------------------------------------------------------------------\")\n"
   ]
  },
  {
   "cell_type": "markdown",
   "metadata": {},
   "source": [
    "#### TFIDF Vectorizer\n",
    "Function created to check the accuracy of using Term Frequency Inverse Document Frequency (TFIDF) on each Happy Moment Token"
   ]
  },
  {
   "cell_type": "code",
   "execution_count": 7,
   "metadata": {},
   "outputs": [],
   "source": [
    "def tfidf_model_test(df,clf):\n",
    "    vectorizer = TfidfVectorizer(ngram_range=(1,1), min_df=2)\n",
    "    pipe = Pipeline([('cleanText', CleanTextTransformer()), ('vectorizer', vectorizer), ('clf', clf)])\n",
    "    X = df.toke_text\n",
    "    y = df.category_id\n",
    "    X_train, X_test, y_train, y_test = train_test_split(X, y, random_state=1,test_size=0.2)\n",
    "    pipe.fit(X_train,y_train)\n",
    "    y_pred_class = pipe.predict(X_test)\n",
    "    print(\"----------------------------------------------------------------------------------------------\")\n",
    "    print(\"Tfidf Accuracy Score:\", metrics.accuracy_score(y_test, y_pred_class))\n",
    "    print(\"----------------------------------------------------------------------------------------------\")"
   ]
  },
  {
   "cell_type": "markdown",
   "metadata": {},
   "source": [
    "### Model Testing\n",
    "Tested the accuracy score of each model using both the CountVectorizer and TFIDF model testing functions\n",
    "\n",
    "#### Models Tested:\n",
    "- Linear Support Vector Machine\n",
    "- Multinomial Naive Bayes\n",
    "- Logistic Regression"
   ]
  },
  {
   "cell_type": "code",
   "execution_count": 8,
   "metadata": {},
   "outputs": [
    {
     "name": "stdout",
     "output_type": "stream",
     "text": [
      "----------------------------------------------------------------------------------------------\n",
      "CV Accuracy Score: 0.8792198049512379\n",
      "----------------------------------------------------------------------------------------------\n",
      "----------------------------------------------------------------------------------------------\n",
      "Tfidf Accuracy Score: 0.8841210302575644\n",
      "----------------------------------------------------------------------------------------------\n"
     ]
    }
   ],
   "source": [
    "clf_lsvc = LinearSVC()\n",
    "model_test(hm_df,clf_lsvc)\n",
    "clf_lsvc_tfidf = LinearSVC()\n",
    "tfidf_model_test(hm_df,clf_lsvc_tfidf)#Highest Scoring Model"
   ]
  },
  {
   "cell_type": "code",
   "execution_count": 9,
   "metadata": {},
   "outputs": [
    {
     "name": "stdout",
     "output_type": "stream",
     "text": [
      "----------------------------------------------------------------------------------------------\n",
      "CV Accuracy Score: 0.8037509377344336\n",
      "----------------------------------------------------------------------------------------------\n",
      "----------------------------------------------------------------------------------------------\n",
      "Tfidf Accuracy Score: 0.7428357089272318\n",
      "----------------------------------------------------------------------------------------------\n"
     ]
    }
   ],
   "source": [
    "clf_nb = MultinomialNB()\n",
    "model_test(hm_df,clf_nb)\n",
    "clf_nb_tfidf = MultinomialNB()\n",
    "tfidf_model_test(hm_df,clf_nb_tfidf)"
   ]
  },
  {
   "cell_type": "code",
   "execution_count": 10,
   "metadata": {},
   "outputs": [
    {
     "name": "stdout",
     "output_type": "stream",
     "text": [
      "----------------------------------------------------------------------------------------------\n",
      "CV Accuracy Score: 0.8623155788947237\n",
      "----------------------------------------------------------------------------------------------\n",
      "----------------------------------------------------------------------------------------------\n",
      "Tfidf Accuracy Score: 0.7428357089272318\n",
      "----------------------------------------------------------------------------------------------\n"
     ]
    }
   ],
   "source": [
    "clf_lr = LogisticRegression(C=1e9)\n",
    "model_test(hm_df,clf_lr)\n",
    "clr_lr_tfidf = LogisticRegression(C=1e9)\n",
    "tfidf_model_test(hm_df,clf_nb)"
   ]
  },
  {
   "cell_type": "markdown",
   "metadata": {},
   "source": [
    "### Model Selected:\n",
    "> The Linear Support Vector Machine using a TFIDF vectorizer scored highest among all other classification models\n",
    "\n",
    "---"
   ]
  },
  {
   "cell_type": "markdown",
   "metadata": {},
   "source": [
    "## Apply Selected Model to Each of the Predicted Categories"
   ]
  },
  {
   "cell_type": "markdown",
   "metadata": {},
   "source": [
    "### Function Used to Test Accuracy and Determine Most Informative Features"
   ]
  },
  {
   "cell_type": "code",
   "execution_count": 11,
   "metadata": {},
   "outputs": [],
   "source": [
    "def tfidf_model_most_informative(df,dfx,dfy,clf,N):\n",
    "    vectorizer = TfidfVectorizer(ngram_range=(1,1), min_df=2)\n",
    "    pipe = Pipeline([('cleanText', CleanTextTransformer()), ('vectorizer', vectorizer), ('clf', clf)])\n",
    "    X = dfx\n",
    "    y = dfy\n",
    "    X_train, X_test, y_train, y_test = train_test_split(X, y, random_state=1,test_size=0.2)\n",
    "    pipe.fit(X_train,y_train)\n",
    "    y_pred_class = pipe.predict(X_test)\n",
    "    print(\"----------------------------------------------------------------------------------------------\")\n",
    "    print(\"Tfidf Accuracy Score:\", metrics.accuracy_score(y_test, y_pred_class))\n",
    "    print(\"----------------------------------------------------------------------------------------------\")\n",
    "    \"\"\"Prints features with the highest coefficient values, per class\"\"\"\n",
    "    feature_names = vectorizer.get_feature_names()\n",
    "    coefs_with_fns = sorted(zip(clf.coef_[0], feature_names))\n",
    "    topClass1 = coefs_with_fns[:-(N + 1):-1]\n",
    "    topClass2 = coefs_with_fns[:-(N + 1):-1]\n",
    "    print(\"#Features with highest coefficient values:\")\n",
    "    print(\"(coefficient,feature name)\")\n",
    "    for feat in topClass1:\n",
    "        print(feat)\n"
   ]
  },
  {
   "cell_type": "markdown",
   "metadata": {},
   "source": [
    "### Apply Function to Each of the Predicted Categories\n",
    "\n",
    "The model is fit and run on each of the predicted categories, and provides the accuracy of its ability to predict the category, as well as the most significant features used to predict that category"
   ]
  },
  {
   "cell_type": "markdown",
   "metadata": {},
   "source": [
    "#### Predicted Category: Affection"
   ]
  },
  {
   "cell_type": "code",
   "execution_count": 12,
   "metadata": {},
   "outputs": [
    {
     "name": "stdout",
     "output_type": "stream",
     "text": [
      "----------------------------------------------------------------------------------------------\n",
      "Tfidf Accuracy Score: 0.95743935983996\n",
      "----------------------------------------------------------------------------------------------\n",
      "#Features with highest coefficient values:\n",
      "(coefficient,feature name)\n",
      "(7.981595981332734, 'wife')\n",
      "(7.928953343039355, 'husband')\n",
      "(7.7170025137529565, 'son')\n",
      "(7.541949527205374, 'family')\n",
      "(7.420829562123793, 'daughter')\n",
      "(6.591834665638432, 'sister')\n",
      "(6.3519700444545215, 'boyfriend')\n",
      "(6.266532712706981, 'brother')\n"
     ]
    }
   ],
   "source": [
    "dfx = hm_df.toke_text\n",
    "dfy = hm_df.affection_0\n",
    "tfidf_model_most_informative(hm_df,dfx,dfy,clf_lsvc_tfidf,8)"
   ]
  },
  {
   "cell_type": "markdown",
   "metadata": {},
   "source": [
    "#### Predicted Category: Leisure"
   ]
  },
  {
   "cell_type": "code",
   "execution_count": 13,
   "metadata": {},
   "outputs": [
    {
     "name": "stdout",
     "output_type": "stream",
     "text": [
      "----------------------------------------------------------------------------------------------\n",
      "Tfidf Accuracy Score: 0.9645911477869468\n",
      "----------------------------------------------------------------------------------------------\n",
      "#Features with highest coefficient values:\n",
      "(coefficient,feature name)\n",
      "(2.7710294914729934, 'surprises')\n",
      "(2.7185430411293936, 'nap')\n",
      "(2.704888026135278, 'episode')\n",
      "(2.690225468511501, 'watch')\n",
      "(2.551766759141951, 'read')\n",
      "(2.4594703940097515, 'watched')\n",
      "(2.3488387150192915, 'game')\n",
      "(2.2023985328526026, 'mexican')\n"
     ]
    }
   ],
   "source": [
    "dfx = hm_df.toke_text\n",
    "dfy = hm_df.leisure_1\n",
    "tfidf_model_most_informative(hm_df,dfx,dfy,clf_lsvc_tfidf,8)"
   ]
  },
  {
   "cell_type": "markdown",
   "metadata": {},
   "source": [
    "#### Predicted Category: Bonding\n",
    "> **Note:** Bonding is different than affection as it refers to relationships more likely associated with friends, neighbors, etc."
   ]
  },
  {
   "cell_type": "code",
   "execution_count": 14,
   "metadata": {},
   "outputs": [
    {
     "name": "stdout",
     "output_type": "stream",
     "text": [
      "----------------------------------------------------------------------------------------------\n",
      "Tfidf Accuracy Score: 0.9867966991747937\n",
      "----------------------------------------------------------------------------------------------\n",
      "#Features with highest coefficient values:\n",
      "(coefficient,feature name)\n",
      "(11.922201432990597, 'friend')\n",
      "(5.16143130151014, 'friends')\n",
      "(4.410834141469935, 'roommate')\n",
      "(4.40714776435012, 'coworker')\n",
      "(4.3317949351715725, 'worker')\n",
      "(3.838889638640418, 'neighbor')\n",
      "(3.280475213778114, 'colleague')\n",
      "(2.8752669872010337, 'mate')\n"
     ]
    }
   ],
   "source": [
    "dfx = hm_df.toke_text\n",
    "dfy = hm_df.bonding_2\n",
    "tfidf_model_most_informative(hm_df,dfx,dfy,clf_lsvc_tfidf,8)"
   ]
  },
  {
   "cell_type": "markdown",
   "metadata": {},
   "source": [
    "#### Predicted Category: Achievement"
   ]
  },
  {
   "cell_type": "code",
   "execution_count": 15,
   "metadata": {},
   "outputs": [
    {
     "name": "stdout",
     "output_type": "stream",
     "text": [
      "----------------------------------------------------------------------------------------------\n",
      "Tfidf Accuracy Score: 0.9218304576144036\n",
      "----------------------------------------------------------------------------------------------\n",
      "#Features with highest coefficient values:\n",
      "(coefficient,feature name)\n",
      "(3.0419402742253467, 'job')\n",
      "(2.751026948135801, 'exam')\n",
      "(2.7222849285122197, 'raise')\n",
      "(2.65144150447287, 'win')\n",
      "(2.578817623182829, 'approval')\n",
      "(2.540846301723316, 'company')\n",
      "(2.4464555312449967, 'aid')\n",
      "(2.235979004134518, 'beat')\n"
     ]
    }
   ],
   "source": [
    "dfx = hm_df.toke_text\n",
    "dfy = hm_df.achievement_3\n",
    "tfidf_model_most_informative(hm_df,dfx,dfy,clf_lsvc_tfidf,8)"
   ]
  },
  {
   "cell_type": "markdown",
   "metadata": {},
   "source": [
    "#### Predicted Category: Enjoy The Moment\n",
    "> **Note:** This category appears to be more of \"catch all\" that contains more of the miscellaneous Happy Moments"
   ]
  },
  {
   "cell_type": "code",
   "execution_count": 16,
   "metadata": {},
   "outputs": [
    {
     "name": "stdout",
     "output_type": "stream",
     "text": [
      "----------------------------------------------------------------------------------------------\n",
      "Tfidf Accuracy Score: 0.9393348337084271\n",
      "----------------------------------------------------------------------------------------------\n",
      "#Features with highest coefficient values:\n",
      "(coefficient,feature name)\n",
      "(3.151642883309448, 'happy')\n",
      "(2.2974743587764372, 'blissful')\n",
      "(2.156808753600808, 'package')\n",
      "(2.1515789231558826, 'randomly')\n",
      "(2.143983994020429, 'enjoy')\n",
      "(2.121652923544125, 'jesus')\n",
      "(2.0445416110410854, 'abandon')\n",
      "(2.0266449832488274, 'crave')\n"
     ]
    }
   ],
   "source": [
    "dfx = hm_df.toke_text\n",
    "dfy = hm_df.enjoy_the_moment_4\n",
    "tfidf_model_most_informative(hm_df,dfx,dfy,clf_lsvc_tfidf,8)"
   ]
  },
  {
   "cell_type": "markdown",
   "metadata": {},
   "source": [
    "#### Predicted Category: Exercise"
   ]
  },
  {
   "cell_type": "code",
   "execution_count": 17,
   "metadata": {},
   "outputs": [
    {
     "name": "stdout",
     "output_type": "stream",
     "text": [
      "----------------------------------------------------------------------------------------------\n",
      "Tfidf Accuracy Score: 0.9959989997499374\n",
      "----------------------------------------------------------------------------------------------\n",
      "#Features with highest coefficient values:\n",
      "(coefficient,feature name)\n",
      "(4.810522070447907, 'gym')\n",
      "(3.8414214460514344, 'workout')\n",
      "(3.1397626095780953, 'yoga')\n",
      "(2.8229801110999704, 'exercise')\n",
      "(2.660053903065797, 'run')\n",
      "(2.5606706442601506, 'mile')\n",
      "(2.3055573561273355, 'jog')\n",
      "(2.3027550089756876, 'push')\n"
     ]
    }
   ],
   "source": [
    "dfx = hm_df.toke_text\n",
    "dfy = hm_df.exercise_5\n",
    "tfidf_model_most_informative(hm_df,dfx,dfy,clf_lsvc_tfidf,8)"
   ]
  },
  {
   "cell_type": "markdown",
   "metadata": {},
   "source": [
    "#### Predicted Category: Nature"
   ]
  },
  {
   "cell_type": "code",
   "execution_count": 18,
   "metadata": {},
   "outputs": [
    {
     "name": "stdout",
     "output_type": "stream",
     "text": [
      "----------------------------------------------------------------------------------------------\n",
      "Tfidf Accuracy Score: 0.9915478869717429\n",
      "----------------------------------------------------------------------------------------------\n",
      "#Features with highest coefficient values:\n",
      "(coefficient,feature name)\n",
      "(3.7893986407982005, 'weather')\n",
      "(3.341300331051462, 'rain')\n",
      "(2.788552013488483, 'sun')\n",
      "(2.6661528141123862, 'temperature')\n",
      "(2.593729616755351, 'snow')\n",
      "(2.41448242713872, 'ocean')\n",
      "(2.3472220589449395, 'sunset')\n",
      "(2.2607673873897647, 'nature')\n"
     ]
    }
   ],
   "source": [
    "dfx = hm_df.toke_text\n",
    "dfy = hm_df.nature_6\n",
    "tfidf_model_most_informative(hm_df,dfx,dfy,clf_lsvc_tfidf,8)"
   ]
  },
  {
   "cell_type": "markdown",
   "metadata": {},
   "source": [
    "# Conclusion:\n",
    "\n",
    "The following results indicate that the model was generally successful in being able to accurately predict each worker's Happy Moment. \n",
    "\n",
    "Further analysis will be done to better understand the relationships between Workers demographic data and the predicted results/features."
   ]
  }
 ],
 "metadata": {
  "kernelspec": {
   "display_name": "Python 3",
   "language": "python",
   "name": "python3"
  },
  "language_info": {
   "codemirror_mode": {
    "name": "ipython",
    "version": 3
   },
   "file_extension": ".py",
   "mimetype": "text/x-python",
   "name": "python",
   "nbconvert_exporter": "python",
   "pygments_lexer": "ipython3",
   "version": "3.6.6"
  }
 },
 "nbformat": 4,
 "nbformat_minor": 2
}
