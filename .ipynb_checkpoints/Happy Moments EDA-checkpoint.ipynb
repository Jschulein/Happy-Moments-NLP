{
 "cells": [
  {
   "cell_type": "markdown",
   "metadata": {},
   "source": [
    "# What Makes People Happy?\n",
    "\n",
    "\n",
    "## Part 1: Exploratory Data Analysis and Cleaning\n",
    "---\n"
   ]
  },
  {
   "cell_type": "code",
   "execution_count": 37,
   "metadata": {},
   "outputs": [],
   "source": [
    "import pandas as pd\n",
    "import numpy as np \n",
    "import seaborn as sns\n",
    "import matplotlib.pyplot as plt\n",
    "import scipy as sp\n",
    "import spacy\n",
    "from sklearn.base import TransformerMixin\n",
    "from sklearn.pipeline import Pipeline\n",
    "from sklearn.svm import LinearSVC\n",
    "from sklearn.model_selection import train_test_split\n",
    "from sklearn.feature_extraction.text import CountVectorizer, TfidfVectorizer, ENGLISH_STOP_WORDS\n",
    "from sklearn.feature_selection import chi2\n",
    "from sklearn.naive_bayes import MultinomialNB         # Naive Bayes\n",
    "from sklearn.linear_model import LogisticRegression\n",
    "from sklearn import metrics\n",
    "from textblob import TextBlob, Word\n",
    "import nltk\n",
    "from nltk.corpus import stopwords\n",
    "import string\n",
    "import re\n",
    "\n",
    "plt.style.use('fivethirtyeight')\n",
    "\n",
    "%matplotlib inline"
   ]
  },
  {
   "cell_type": "markdown",
   "metadata": {},
   "source": [
    "### Importing data\n",
    "\n",
    "Data from both the cleaned Happy Moments, and worker demographics will be used in the analysis. "
   ]
  },
  {
   "cell_type": "code",
   "execution_count": 38,
   "metadata": {},
   "outputs": [],
   "source": [
    "cleaned_moments = pd.read_table('./data/cleaned_hm.csv', sep=',')\n",
    "workers = pd.read_table('./data/demographic.csv', sep=',')"
   ]
  },
  {
   "cell_type": "code",
   "execution_count": 39,
   "metadata": {},
   "outputs": [],
   "source": [
    "happy_moments = pd.merge(cleaned_moments,workers)"
   ]
  },
  {
   "cell_type": "markdown",
   "metadata": {},
   "source": [
    "## Column Information\n",
    "- **hmid** (int): Happy moment ID\n",
    "- **wid** (int): Worker ID\n",
    "- **reflection_period** (str): Reflection period used in the instructions provided to the worker (3m or 24h)\n",
    "- **original_hm** (str): Original happy moment\n",
    "- **cleaned_hm** (str): Cleaned happy moment\n",
    "- **modified** (bool): If True, original_hm is \"cleaned up\" to generate cleaned_hm (True or False)\n",
    "- **predicted_category** (str): Happiness category label predicted by our classifier (7 categories. Please see the reference for details)\n",
    "- **ground_truth_category** (str): Ground truth category label. The value is NaN if the ground truth label is missing for the happy moment\n",
    "- **num_sentence** (int): Number of sentences in the happy moment\n",
    "- **wid** (int): Worker ID\n",
    "- **age** (float): Age\n",
    "- **country** (str): Country of residence (follows the ISO 3166 Country Code)\n",
    "- **gender** (str): {Male (m), Female (f), Other (o)}\n",
    "- **marital** (str): Marital status {single, married, divorced, separated, or widowed}\n",
    "- **parenthood** (str): Parenthood status {yes (y) or no (n)}"
   ]
  },
  {
   "cell_type": "code",
   "execution_count": 40,
   "metadata": {},
   "outputs": [
    {
     "data": {
      "text/html": [
       "<div>\n",
       "<style scoped>\n",
       "    .dataframe tbody tr th:only-of-type {\n",
       "        vertical-align: middle;\n",
       "    }\n",
       "\n",
       "    .dataframe tbody tr th {\n",
       "        vertical-align: top;\n",
       "    }\n",
       "\n",
       "    .dataframe thead th {\n",
       "        text-align: right;\n",
       "    }\n",
       "</style>\n",
       "<table border=\"1\" class=\"dataframe\">\n",
       "  <thead>\n",
       "    <tr style=\"text-align: right;\">\n",
       "      <th></th>\n",
       "      <th>hmid</th>\n",
       "      <th>wid</th>\n",
       "      <th>reflection_period</th>\n",
       "      <th>original_hm</th>\n",
       "      <th>cleaned_hm</th>\n",
       "      <th>modified</th>\n",
       "      <th>num_sentence</th>\n",
       "      <th>ground_truth_category</th>\n",
       "      <th>predicted_category</th>\n",
       "      <th>age</th>\n",
       "      <th>country</th>\n",
       "      <th>gender</th>\n",
       "      <th>marital</th>\n",
       "      <th>parenthood</th>\n",
       "    </tr>\n",
       "  </thead>\n",
       "  <tbody>\n",
       "    <tr>\n",
       "      <th>0</th>\n",
       "      <td>27673</td>\n",
       "      <td>2053</td>\n",
       "      <td>24h</td>\n",
       "      <td>I went on a successful date with someone I fel...</td>\n",
       "      <td>I went on a successful date with someone I fel...</td>\n",
       "      <td>True</td>\n",
       "      <td>1</td>\n",
       "      <td>NaN</td>\n",
       "      <td>affection</td>\n",
       "      <td>35</td>\n",
       "      <td>USA</td>\n",
       "      <td>m</td>\n",
       "      <td>single</td>\n",
       "      <td>n</td>\n",
       "    </tr>\n",
       "    <tr>\n",
       "      <th>1</th>\n",
       "      <td>27873</td>\n",
       "      <td>2053</td>\n",
       "      <td>24h</td>\n",
       "      <td>I played a new game that was fun and got to en...</td>\n",
       "      <td>I played a new game that was fun and got to en...</td>\n",
       "      <td>True</td>\n",
       "      <td>1</td>\n",
       "      <td>NaN</td>\n",
       "      <td>leisure</td>\n",
       "      <td>35</td>\n",
       "      <td>USA</td>\n",
       "      <td>m</td>\n",
       "      <td>single</td>\n",
       "      <td>n</td>\n",
       "    </tr>\n",
       "    <tr>\n",
       "      <th>2</th>\n",
       "      <td>28073</td>\n",
       "      <td>2053</td>\n",
       "      <td>24h</td>\n",
       "      <td>I listened to some music and heard an entire a...</td>\n",
       "      <td>I listened to some music and heard an entire a...</td>\n",
       "      <td>True</td>\n",
       "      <td>1</td>\n",
       "      <td>NaN</td>\n",
       "      <td>leisure</td>\n",
       "      <td>35</td>\n",
       "      <td>USA</td>\n",
       "      <td>m</td>\n",
       "      <td>single</td>\n",
       "      <td>n</td>\n",
       "    </tr>\n",
       "    <tr>\n",
       "      <th>3</th>\n",
       "      <td>33522</td>\n",
       "      <td>2053</td>\n",
       "      <td>24h</td>\n",
       "      <td>Went to see a movie with my friend</td>\n",
       "      <td>Went to see a movie with my friend</td>\n",
       "      <td>True</td>\n",
       "      <td>1</td>\n",
       "      <td>NaN</td>\n",
       "      <td>bonding</td>\n",
       "      <td>35</td>\n",
       "      <td>USA</td>\n",
       "      <td>m</td>\n",
       "      <td>single</td>\n",
       "      <td>n</td>\n",
       "    </tr>\n",
       "    <tr>\n",
       "      <th>4</th>\n",
       "      <td>34522</td>\n",
       "      <td>2053</td>\n",
       "      <td>24h</td>\n",
       "      <td>Played guitar, learning a song on it</td>\n",
       "      <td>Played guitar, learning a song on it</td>\n",
       "      <td>True</td>\n",
       "      <td>1</td>\n",
       "      <td>NaN</td>\n",
       "      <td>leisure</td>\n",
       "      <td>35</td>\n",
       "      <td>USA</td>\n",
       "      <td>m</td>\n",
       "      <td>single</td>\n",
       "      <td>n</td>\n",
       "    </tr>\n",
       "  </tbody>\n",
       "</table>\n",
       "</div>"
      ],
      "text/plain": [
       "    hmid   wid reflection_period  \\\n",
       "0  27673  2053               24h   \n",
       "1  27873  2053               24h   \n",
       "2  28073  2053               24h   \n",
       "3  33522  2053               24h   \n",
       "4  34522  2053               24h   \n",
       "\n",
       "                                         original_hm  \\\n",
       "0  I went on a successful date with someone I fel...   \n",
       "1  I played a new game that was fun and got to en...   \n",
       "2  I listened to some music and heard an entire a...   \n",
       "3                 Went to see a movie with my friend   \n",
       "4               Played guitar, learning a song on it   \n",
       "\n",
       "                                          cleaned_hm  modified  num_sentence  \\\n",
       "0  I went on a successful date with someone I fel...      True             1   \n",
       "1  I played a new game that was fun and got to en...      True             1   \n",
       "2  I listened to some music and heard an entire a...      True             1   \n",
       "3                 Went to see a movie with my friend      True             1   \n",
       "4               Played guitar, learning a song on it      True             1   \n",
       "\n",
       "  ground_truth_category predicted_category age country gender marital  \\\n",
       "0                   NaN          affection  35     USA      m  single   \n",
       "1                   NaN            leisure  35     USA      m  single   \n",
       "2                   NaN            leisure  35     USA      m  single   \n",
       "3                   NaN            bonding  35     USA      m  single   \n",
       "4                   NaN            leisure  35     USA      m  single   \n",
       "\n",
       "  parenthood  \n",
       "0          n  \n",
       "1          n  \n",
       "2          n  \n",
       "3          n  \n",
       "4          n  "
      ]
     },
     "execution_count": 40,
     "metadata": {},
     "output_type": "execute_result"
    }
   ],
   "source": [
    "happy_moments.head()"
   ]
  },
  {
   "cell_type": "code",
   "execution_count": 41,
   "metadata": {},
   "outputs": [
    {
     "data": {
      "text/plain": [
       "(100535, 14)"
      ]
     },
     "execution_count": 41,
     "metadata": {},
     "output_type": "execute_result"
    }
   ],
   "source": [
    "happy_moments.shape"
   ]
  },
  {
   "cell_type": "code",
   "execution_count": 42,
   "metadata": {},
   "outputs": [
    {
     "name": "stdout",
     "output_type": "stream",
     "text": [
      "<class 'pandas.core.frame.DataFrame'>\n",
      "Int64Index: 100535 entries, 0 to 100534\n",
      "Data columns (total 14 columns):\n",
      "hmid                     100535 non-null int64\n",
      "wid                      100535 non-null int64\n",
      "reflection_period        100535 non-null object\n",
      "original_hm              100535 non-null object\n",
      "cleaned_hm               100535 non-null object\n",
      "modified                 100535 non-null bool\n",
      "num_sentence             100535 non-null int64\n",
      "ground_truth_category    14125 non-null object\n",
      "predicted_category       100535 non-null object\n",
      "age                      100442 non-null object\n",
      "country                  100332 non-null object\n",
      "gender                   100456 non-null object\n",
      "marital                  100378 non-null object\n",
      "parenthood               100457 non-null object\n",
      "dtypes: bool(1), int64(3), object(10)\n",
      "memory usage: 10.8+ MB\n"
     ]
    }
   ],
   "source": [
    "happy_moments.info()"
   ]
  },
  {
   "cell_type": "markdown",
   "metadata": {},
   "source": [
    "**Note:** Before cleaning the data, the data set had 100,535 rows, and 14 columns.\n",
    "\n",
    "\n",
    "---"
   ]
  },
  {
   "cell_type": "markdown",
   "metadata": {},
   "source": [
    "## Data Cleaning\n",
    "\n",
    ">Given the size of the data set, and the timeframe to analyze it, rows in which worker's information had null values were dropped. \n",
    "\n"
   ]
  },
  {
   "cell_type": "markdown",
   "metadata": {},
   "source": [
    "Age was listed as an object, so it was changed to a float, or null if it could not be converted. \n",
    "Workers who reported to be over 100 years old were also dropped."
   ]
  },
  {
   "cell_type": "code",
   "execution_count": 43,
   "metadata": {},
   "outputs": [],
   "source": [
    "def converter(s):\n",
    "    try:\n",
    "        output = float(s)\n",
    "    except:\n",
    "        output = np.nan\n",
    "    return output"
   ]
  },
  {
   "cell_type": "code",
   "execution_count": 44,
   "metadata": {},
   "outputs": [],
   "source": [
    "happy_moments['age']=happy_moments.age.apply(converter)"
   ]
  },
  {
   "cell_type": "code",
   "execution_count": 45,
   "metadata": {},
   "outputs": [],
   "source": [
    "happy_moments = happy_moments[happy_moments['age']<100]"
   ]
  },
  {
   "cell_type": "markdown",
   "metadata": {},
   "source": [
    "All rows that contained null values for Age, Country, Gender, Parenthood, or Marital were dropped."
   ]
  },
  {
   "cell_type": "code",
   "execution_count": 46,
   "metadata": {},
   "outputs": [],
   "source": [
    "happy_moments = happy_moments.dropna(subset=['age','country','gender','parenthood','marital'])"
   ]
  },
  {
   "cell_type": "code",
   "execution_count": 47,
   "metadata": {},
   "outputs": [
    {
     "name": "stdout",
     "output_type": "stream",
     "text": [
      "<class 'pandas.core.frame.DataFrame'>\n",
      "Int64Index: 99974 entries, 0 to 100534\n",
      "Data columns (total 14 columns):\n",
      "hmid                     99974 non-null int64\n",
      "wid                      99974 non-null int64\n",
      "reflection_period        99974 non-null object\n",
      "original_hm              99974 non-null object\n",
      "cleaned_hm               99974 non-null object\n",
      "modified                 99974 non-null bool\n",
      "num_sentence             99974 non-null int64\n",
      "ground_truth_category    14038 non-null object\n",
      "predicted_category       99974 non-null object\n",
      "age                      99974 non-null float64\n",
      "country                  99974 non-null object\n",
      "gender                   99974 non-null object\n",
      "marital                  99974 non-null object\n",
      "parenthood               99974 non-null object\n",
      "dtypes: bool(1), float64(1), int64(3), object(9)\n",
      "memory usage: 10.8+ MB\n"
     ]
    }
   ],
   "source": [
    "happy_moments.info()"
   ]
  },
  {
   "cell_type": "markdown",
   "metadata": {},
   "source": [
    "Columns unrelated to the analysis were dropped."
   ]
  },
  {
   "cell_type": "code",
   "execution_count": 48,
   "metadata": {},
   "outputs": [],
   "source": [
    "happy_moments.drop(columns=['ground_truth_category','original_hm','modified'],inplace=True)"
   ]
  },
  {
   "cell_type": "markdown",
   "metadata": {},
   "source": [
    "## Exploratory Data Analysis"
   ]
  },
  {
   "cell_type": "code",
   "execution_count": 49,
   "metadata": {},
   "outputs": [
    {
     "data": {
      "text/html": [
       "<div>\n",
       "<style scoped>\n",
       "    .dataframe tbody tr th:only-of-type {\n",
       "        vertical-align: middle;\n",
       "    }\n",
       "\n",
       "    .dataframe tbody tr th {\n",
       "        vertical-align: top;\n",
       "    }\n",
       "\n",
       "    .dataframe thead th {\n",
       "        text-align: right;\n",
       "    }\n",
       "</style>\n",
       "<table border=\"1\" class=\"dataframe\">\n",
       "  <thead>\n",
       "    <tr style=\"text-align: right;\">\n",
       "      <th></th>\n",
       "      <th>hmid</th>\n",
       "      <th>wid</th>\n",
       "      <th>num_sentence</th>\n",
       "      <th>age</th>\n",
       "    </tr>\n",
       "  </thead>\n",
       "  <tbody>\n",
       "    <tr>\n",
       "      <th>count</th>\n",
       "      <td>99974.000000</td>\n",
       "      <td>99974.000000</td>\n",
       "      <td>99974.000000</td>\n",
       "      <td>99974.000000</td>\n",
       "    </tr>\n",
       "    <tr>\n",
       "      <th>mean</th>\n",
       "      <td>78223.663352</td>\n",
       "      <td>2720.198322</td>\n",
       "      <td>1.340018</td>\n",
       "      <td>32.392812</td>\n",
       "    </tr>\n",
       "    <tr>\n",
       "      <th>std</th>\n",
       "      <td>29180.846455</td>\n",
       "      <td>3513.769235</td>\n",
       "      <td>1.296365</td>\n",
       "      <td>9.914971</td>\n",
       "    </tr>\n",
       "    <tr>\n",
       "      <th>min</th>\n",
       "      <td>27673.000000</td>\n",
       "      <td>1.000000</td>\n",
       "      <td>1.000000</td>\n",
       "      <td>2.000000</td>\n",
       "    </tr>\n",
       "    <tr>\n",
       "      <th>25%</th>\n",
       "      <td>52936.250000</td>\n",
       "      <td>408.000000</td>\n",
       "      <td>1.000000</td>\n",
       "      <td>26.000000</td>\n",
       "    </tr>\n",
       "    <tr>\n",
       "      <th>50%</th>\n",
       "      <td>78249.500000</td>\n",
       "      <td>1117.000000</td>\n",
       "      <td>1.000000</td>\n",
       "      <td>30.000000</td>\n",
       "    </tr>\n",
       "    <tr>\n",
       "      <th>75%</th>\n",
       "      <td>103504.750000</td>\n",
       "      <td>3424.750000</td>\n",
       "      <td>1.000000</td>\n",
       "      <td>36.000000</td>\n",
       "    </tr>\n",
       "    <tr>\n",
       "      <th>max</th>\n",
       "      <td>128766.000000</td>\n",
       "      <td>13839.000000</td>\n",
       "      <td>69.000000</td>\n",
       "      <td>98.000000</td>\n",
       "    </tr>\n",
       "  </tbody>\n",
       "</table>\n",
       "</div>"
      ],
      "text/plain": [
       "                hmid           wid  num_sentence           age\n",
       "count   99974.000000  99974.000000  99974.000000  99974.000000\n",
       "mean    78223.663352   2720.198322      1.340018     32.392812\n",
       "std     29180.846455   3513.769235      1.296365      9.914971\n",
       "min     27673.000000      1.000000      1.000000      2.000000\n",
       "25%     52936.250000    408.000000      1.000000     26.000000\n",
       "50%     78249.500000   1117.000000      1.000000     30.000000\n",
       "75%    103504.750000   3424.750000      1.000000     36.000000\n",
       "max    128766.000000  13839.000000     69.000000     98.000000"
      ]
     },
     "execution_count": 49,
     "metadata": {},
     "output_type": "execute_result"
    }
   ],
   "source": [
    "happy_moments.describe()"
   ]
  },
  {
   "cell_type": "code",
   "execution_count": 50,
   "metadata": {},
   "outputs": [
    {
     "data": {
      "text/html": [
       "<div>\n",
       "<style scoped>\n",
       "    .dataframe tbody tr th:only-of-type {\n",
       "        vertical-align: middle;\n",
       "    }\n",
       "\n",
       "    .dataframe tbody tr th {\n",
       "        vertical-align: top;\n",
       "    }\n",
       "\n",
       "    .dataframe thead th {\n",
       "        text-align: right;\n",
       "    }\n",
       "</style>\n",
       "<table border=\"1\" class=\"dataframe\">\n",
       "  <thead>\n",
       "    <tr style=\"text-align: right;\">\n",
       "      <th></th>\n",
       "      <th>reflection_period</th>\n",
       "      <th>cleaned_hm</th>\n",
       "      <th>predicted_category</th>\n",
       "      <th>country</th>\n",
       "      <th>gender</th>\n",
       "      <th>marital</th>\n",
       "      <th>parenthood</th>\n",
       "    </tr>\n",
       "  </thead>\n",
       "  <tbody>\n",
       "    <tr>\n",
       "      <th>count</th>\n",
       "      <td>99974</td>\n",
       "      <td>99974</td>\n",
       "      <td>99974</td>\n",
       "      <td>99974</td>\n",
       "      <td>99974</td>\n",
       "      <td>99974</td>\n",
       "      <td>99974</td>\n",
       "    </tr>\n",
       "    <tr>\n",
       "      <th>unique</th>\n",
       "      <td>2</td>\n",
       "      <td>95946</td>\n",
       "      <td>7</td>\n",
       "      <td>100</td>\n",
       "      <td>3</td>\n",
       "      <td>5</td>\n",
       "      <td>2</td>\n",
       "    </tr>\n",
       "    <tr>\n",
       "      <th>top</th>\n",
       "      <td>3m</td>\n",
       "      <td>I WENT TO TEMPLE</td>\n",
       "      <td>affection</td>\n",
       "      <td>USA</td>\n",
       "      <td>m</td>\n",
       "      <td>single</td>\n",
       "      <td>n</td>\n",
       "    </tr>\n",
       "    <tr>\n",
       "      <th>freq</th>\n",
       "      <td>50400</td>\n",
       "      <td>120</td>\n",
       "      <td>33903</td>\n",
       "      <td>78740</td>\n",
       "      <td>57496</td>\n",
       "      <td>53935</td>\n",
       "      <td>60695</td>\n",
       "    </tr>\n",
       "  </tbody>\n",
       "</table>\n",
       "</div>"
      ],
      "text/plain": [
       "       reflection_period        cleaned_hm predicted_category country gender  \\\n",
       "count              99974             99974              99974   99974  99974   \n",
       "unique                 2             95946                  7     100      3   \n",
       "top                   3m  I WENT TO TEMPLE          affection     USA      m   \n",
       "freq               50400               120              33903   78740  57496   \n",
       "\n",
       "       marital parenthood  \n",
       "count    99974      99974  \n",
       "unique       5          2  \n",
       "top     single          n  \n",
       "freq     53935      60695  "
      ]
     },
     "execution_count": 50,
     "metadata": {},
     "output_type": "execute_result"
    }
   ],
   "source": [
    "happy_moments.describe(include ='object')"
   ]
  },
  {
   "cell_type": "markdown",
   "metadata": {},
   "source": [
    ">**Note:** Duplicated Happy Moments will be addressed at a later point, depending on their effects to the model."
   ]
  },
  {
   "cell_type": "markdown",
   "metadata": {},
   "source": [
    "#### Predicted Categories\n",
    "These are the 7 predicted categories under which the previous researchers classified the happy moments:"
   ]
  },
  {
   "cell_type": "code",
   "execution_count": 51,
   "metadata": {},
   "outputs": [
    {
     "data": {
      "text/plain": [
       "affection           33903\n",
       "achievement         33826\n",
       "enjoy_the_moment    11093\n",
       "bonding             10687\n",
       "leisure              7432\n",
       "nature               1835\n",
       "exercise             1198\n",
       "Name: predicted_category, dtype: int64"
      ]
     },
     "execution_count": 51,
     "metadata": {},
     "output_type": "execute_result"
    }
   ],
   "source": [
    "happy_moments.predicted_category.value_counts()"
   ]
  },
  {
   "cell_type": "code",
   "execution_count": 52,
   "metadata": {},
   "outputs": [
    {
     "data": {
      "image/png": "[encoded data removed]",
      "text/plain": [
       "<Figure size 432x288 with 1 Axes>"
      ]
     },
     "metadata": {},
     "output_type": "display_data"
    }
   ],
   "source": [
    "happy_moments.predicted_category.value_counts().plot(kind='barh');"
   ]
  },
  {
   "cell_type": "markdown",
   "metadata": {},
   "source": [
    "\n",
    "\n",
    "#### Comparison of Reflection Periods"
   ]
  },
  {
   "cell_type": "code",
   "execution_count": 53,
   "metadata": {},
   "outputs": [
    {
     "data": {
      "text/plain": [
       "3m     50400\n",
       "24h    49574\n",
       "Name: reflection_period, dtype: int64"
      ]
     },
     "execution_count": 53,
     "metadata": {},
     "output_type": "execute_result"
    }
   ],
   "source": [
    "happy_moments.reflection_period.value_counts()"
   ]
  },
  {
   "cell_type": "code",
   "execution_count": 54,
   "metadata": {},
   "outputs": [],
   "source": [
    "three_month_hm = happy_moments[happy_moments['reflection_period']=='3m']\n",
    "twenty_four_hour_hm = happy_moments[happy_moments['reflection_period']=='24h']"
   ]
  },
  {
   "cell_type": "markdown",
   "metadata": {},
   "source": [
    "##### Happy Moments experienced over three months"
   ]
  },
  {
   "cell_type": "code",
   "execution_count": 55,
   "metadata": {},
   "outputs": [
    {
     "data": {
      "image/png": "[encoded data removed]",
      "text/plain": [
       "<Figure size 432x288 with 1 Axes>"
      ]
     },
     "metadata": {},
     "output_type": "display_data"
    }
   ],
   "source": [
    "three_month_hm.predicted_category.value_counts().plot(kind='barh');"
   ]
  },
  {
   "cell_type": "markdown",
   "metadata": {},
   "source": [
    "##### Happy Moments experienced over twenty-four hours"
   ]
  },
  {
   "cell_type": "code",
   "execution_count": 56,
   "metadata": {},
   "outputs": [
    {
     "data": {
      "image/png": "[encoded data removed]",
      "text/plain": [
       "<Figure size 432x288 with 1 Axes>"
      ]
     },
     "metadata": {},
     "output_type": "display_data"
    }
   ],
   "source": [
    "twenty_four_hour_hm.predicted_category.value_counts().plot(kind='barh');"
   ]
  },
  {
   "cell_type": "markdown",
   "metadata": {},
   "source": [
    ">**Note:** Most experiences recalled over twenty-four Hours related to Affection, whereas most experiences recalled over three Months related to Achievement"
   ]
  },
  {
   "cell_type": "markdown",
   "metadata": {},
   "source": [
    "#### Age Distribution of Workers"
   ]
  },
  {
   "cell_type": "code",
   "execution_count": 57,
   "metadata": {},
   "outputs": [
    {
     "data": {
      "image/png": "[encoded data removed]",
      "text/plain": [
       "<Figure size 432x288 with 1 Axes>"
      ]
     },
     "metadata": {},
     "output_type": "display_data"
    }
   ],
   "source": [
    "#The distribution of Workers ages are right-skewed\n",
    "happy_moments.age.plot(kind='hist',bins=30);"
   ]
  },
  {
   "cell_type": "code",
   "execution_count": 58,
   "metadata": {},
   "outputs": [
    {
     "data": {
      "text/plain": [
       "32.3928121311541"
      ]
     },
     "execution_count": 58,
     "metadata": {},
     "output_type": "execute_result"
    }
   ],
   "source": [
    "#The average age of a Worker is around 32.\n",
    "happy_moments.age.mean()"
   ]
  },
  {
   "cell_type": "code",
   "execution_count": 59,
   "metadata": {},
   "outputs": [
    {
     "data": {
      "text/plain": [
       "30.0"
      ]
     },
     "execution_count": 59,
     "metadata": {},
     "output_type": "execute_result"
    }
   ],
   "source": [
    "#The median age of all workers is 30.\n",
    "happy_moments.age.median()"
   ]
  },
  {
   "cell_type": "markdown",
   "metadata": {},
   "source": [
    "#### Comparison of Genders Identified by Workers"
   ]
  },
  {
   "cell_type": "code",
   "execution_count": 60,
   "metadata": {},
   "outputs": [
    {
     "data": {
      "image/png": "[encoded data removed]",
      "text/plain": [
       "<Figure size 432x288 with 1 Axes>"
      ]
     },
     "metadata": {},
     "output_type": "display_data"
    }
   ],
   "source": [
    "happy_moments.gender.value_counts().plot(kind='barh',fontsize=12);"
   ]
  },
  {
   "cell_type": "code",
   "execution_count": 61,
   "metadata": {},
   "outputs": [],
   "source": [
    "male_hm = happy_moments[happy_moments['gender']=='m']\n",
    "female_hm = happy_moments[happy_moments['gender']=='f']"
   ]
  },
  {
   "cell_type": "markdown",
   "metadata": {},
   "source": [
    "##### Happy Moments experienced by Males"
   ]
  },
  {
   "cell_type": "code",
   "execution_count": 62,
   "metadata": {},
   "outputs": [
    {
     "data": {
      "image/png": "[encoded data removed]",
      "text/plain": [
       "<Figure size 432x288 with 1 Axes>"
      ]
     },
     "metadata": {},
     "output_type": "display_data"
    }
   ],
   "source": [
    "male_hm.predicted_category.value_counts().plot(kind='barh');"
   ]
  },
  {
   "cell_type": "markdown",
   "metadata": {},
   "source": [
    "##### Happy Moments experienced by Females"
   ]
  },
  {
   "cell_type": "code",
   "execution_count": 63,
   "metadata": {},
   "outputs": [
    {
     "data": {
      "image/png": "[encoded data removed]",
      "text/plain": [
       "<Figure size 432x288 with 1 Axes>"
      ]
     },
     "metadata": {},
     "output_type": "display_data"
    }
   ],
   "source": [
    "female_hm.predicted_category.value_counts().plot(kind='barh');"
   ]
  },
  {
   "cell_type": "markdown",
   "metadata": {},
   "source": [
    ">**Note:** Men reported Achievement as making them Happy the most often, whereas Women reported Affection most often"
   ]
  },
  {
   "cell_type": "markdown",
   "metadata": {},
   "source": [
    "## Data Cleaning for NLP"
   ]
  },
  {
   "cell_type": "code",
   "execution_count": 64,
   "metadata": {},
   "outputs": [],
   "source": [
    "happy_moments['category_id'] = happy_moments.predicted_category.factorize()[0]"
   ]
  },
  {
   "cell_type": "code",
   "execution_count": 65,
   "metadata": {},
   "outputs": [
    {
     "data": {
      "text/html": [
       "<div>\n",
       "<style scoped>\n",
       "    .dataframe tbody tr th:only-of-type {\n",
       "        vertical-align: middle;\n",
       "    }\n",
       "\n",
       "    .dataframe tbody tr th {\n",
       "        vertical-align: top;\n",
       "    }\n",
       "\n",
       "    .dataframe thead th {\n",
       "        text-align: right;\n",
       "    }\n",
       "</style>\n",
       "<table border=\"1\" class=\"dataframe\">\n",
       "  <thead>\n",
       "    <tr style=\"text-align: right;\">\n",
       "      <th></th>\n",
       "      <th>hmid</th>\n",
       "      <th>wid</th>\n",
       "      <th>reflection_period</th>\n",
       "      <th>cleaned_hm</th>\n",
       "      <th>num_sentence</th>\n",
       "      <th>predicted_category</th>\n",
       "      <th>age</th>\n",
       "      <th>country</th>\n",
       "      <th>gender</th>\n",
       "      <th>marital</th>\n",
       "      <th>parenthood</th>\n",
       "      <th>category_id</th>\n",
       "    </tr>\n",
       "  </thead>\n",
       "  <tbody>\n",
       "    <tr>\n",
       "      <th>0</th>\n",
       "      <td>27673</td>\n",
       "      <td>2053</td>\n",
       "      <td>24h</td>\n",
       "      <td>I went on a successful date with someone I fel...</td>\n",
       "      <td>1</td>\n",
       "      <td>affection</td>\n",
       "      <td>35.0</td>\n",
       "      <td>USA</td>\n",
       "      <td>m</td>\n",
       "      <td>single</td>\n",
       "      <td>n</td>\n",
       "      <td>0</td>\n",
       "    </tr>\n",
       "    <tr>\n",
       "      <th>1</th>\n",
       "      <td>27873</td>\n",
       "      <td>2053</td>\n",
       "      <td>24h</td>\n",
       "      <td>I played a new game that was fun and got to en...</td>\n",
       "      <td>1</td>\n",
       "      <td>leisure</td>\n",
       "      <td>35.0</td>\n",
       "      <td>USA</td>\n",
       "      <td>m</td>\n",
       "      <td>single</td>\n",
       "      <td>n</td>\n",
       "      <td>1</td>\n",
       "    </tr>\n",
       "    <tr>\n",
       "      <th>2</th>\n",
       "      <td>28073</td>\n",
       "      <td>2053</td>\n",
       "      <td>24h</td>\n",
       "      <td>I listened to some music and heard an entire a...</td>\n",
       "      <td>1</td>\n",
       "      <td>leisure</td>\n",
       "      <td>35.0</td>\n",
       "      <td>USA</td>\n",
       "      <td>m</td>\n",
       "      <td>single</td>\n",
       "      <td>n</td>\n",
       "      <td>1</td>\n",
       "    </tr>\n",
       "    <tr>\n",
       "      <th>3</th>\n",
       "      <td>33522</td>\n",
       "      <td>2053</td>\n",
       "      <td>24h</td>\n",
       "      <td>Went to see a movie with my friend</td>\n",
       "      <td>1</td>\n",
       "      <td>bonding</td>\n",
       "      <td>35.0</td>\n",
       "      <td>USA</td>\n",
       "      <td>m</td>\n",
       "      <td>single</td>\n",
       "      <td>n</td>\n",
       "      <td>2</td>\n",
       "    </tr>\n",
       "    <tr>\n",
       "      <th>4</th>\n",
       "      <td>34522</td>\n",
       "      <td>2053</td>\n",
       "      <td>24h</td>\n",
       "      <td>Played guitar, learning a song on it</td>\n",
       "      <td>1</td>\n",
       "      <td>leisure</td>\n",
       "      <td>35.0</td>\n",
       "      <td>USA</td>\n",
       "      <td>m</td>\n",
       "      <td>single</td>\n",
       "      <td>n</td>\n",
       "      <td>1</td>\n",
       "    </tr>\n",
       "  </tbody>\n",
       "</table>\n",
       "</div>"
      ],
      "text/plain": [
       "    hmid   wid reflection_period  \\\n",
       "0  27673  2053               24h   \n",
       "1  27873  2053               24h   \n",
       "2  28073  2053               24h   \n",
       "3  33522  2053               24h   \n",
       "4  34522  2053               24h   \n",
       "\n",
       "                                          cleaned_hm  num_sentence  \\\n",
       "0  I went on a successful date with someone I fel...             1   \n",
       "1  I played a new game that was fun and got to en...             1   \n",
       "2  I listened to some music and heard an entire a...             1   \n",
       "3                 Went to see a movie with my friend             1   \n",
       "4               Played guitar, learning a song on it             1   \n",
       "\n",
       "  predicted_category   age country gender marital parenthood  category_id  \n",
       "0          affection  35.0     USA      m  single          n            0  \n",
       "1            leisure  35.0     USA      m  single          n            1  \n",
       "2            leisure  35.0     USA      m  single          n            1  \n",
       "3            bonding  35.0     USA      m  single          n            2  \n",
       "4            leisure  35.0     USA      m  single          n            1  "
      ]
     },
     "execution_count": 65,
     "metadata": {},
     "output_type": "execute_result"
    }
   ],
   "source": [
    "happy_moments.head()"
   ]
  },
  {
   "cell_type": "code",
   "execution_count": 66,
   "metadata": {},
   "outputs": [],
   "source": [
    "nlp = spacy.load('en_core_web_sm')\n",
    "STOPLIST = set(stopwords.words('english') + [\"n't\", \"'s\", \"'m\", \"ca\"] + list(ENGLISH_STOP_WORDS))\n",
    "SYMBOLS = \" \".join(string.punctuation).split(\" \") + [\"-----\", \"---\", \"...\", \"“\", \"”\", \"'ve\"]"
   ]
  },
  {
   "cell_type": "code",
   "execution_count": 67,
   "metadata": {},
   "outputs": [],
   "source": [
    "def tokenizeText(sample):\n",
    "\n",
    "    # get the tokens using spaCy\n",
    "    for sentences in sample:\n",
    "        tokens = nlp.tokenizer(sample)\n",
    "\n",
    "    # lemmatize\n",
    "    lemmas = []\n",
    "    for tok in tokens:\n",
    "        lemmas.append(tok.lemma_.lower().strip() if tok.lemma_ != \"-PRON-\" else tok.lower_)\n",
    "    tokens = lemmas\n",
    "\n",
    "    # stoplist the tokens\n",
    "    tokens = [tok for tok in tokens if tok not in STOPLIST]\n",
    "\n",
    "    # stoplist symbols\n",
    "    tokens = [tok for tok in tokens if tok not in SYMBOLS]\n",
    "    \n",
    "    # remove large strings of whitespace\n",
    "    while \"\" in tokens:\n",
    "        tokens.remove(\"\")\n",
    "    while \" \" in tokens:\n",
    "        tokens.remove(\" \")\n",
    "    while \"\\n\" in tokens:\n",
    "        tokens.remove(\"\\n\")\n",
    "\n",
    "    return tokens"
   ]
  },
  {
   "cell_type": "markdown",
   "metadata": {},
   "source": [
    "### Commented out calling the 'tokenizeText' function due to the length of time it takes to run"
   ]
  },
  {
   "cell_type": "code",
   "execution_count": 68,
   "metadata": {},
   "outputs": [],
   "source": [
    "#happy_moments['toke_text'] = happy_moments['cleaned_hm'].apply(tokenizeText)"
   ]
  },
  {
   "cell_type": "markdown",
   "metadata": {},
   "source": [
    "### Export To CSV"
   ]
  },
  {
   "cell_type": "code",
   "execution_count": 69,
   "metadata": {},
   "outputs": [],
   "source": [
    "#happy_moments.to_csv('../data/happy_moments.csv',index=False)"
   ]
  }
 ],
 "metadata": {
  "kernelspec": {
   "display_name": "Python 3",
   "language": "python",
   "name": "python3"
  },
  "language_info": {
   "codemirror_mode": {
    "name": "ipython",
    "version": 3
   },
   "file_extension": ".py",
   "mimetype": "text/x-python",
   "name": "python",
   "nbconvert_exporter": "python",
   "pygments_lexer": "ipython3",
   "version": "3.6.6"
  }
 },
 "nbformat": 4,
 "nbformat_minor": 2
}
